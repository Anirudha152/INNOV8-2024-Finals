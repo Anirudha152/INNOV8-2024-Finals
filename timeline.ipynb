{
 "cells": [
  {
   "cell_type": "code",
   "execution_count": null,
   "id": "initial_id",
   "metadata": {
    "collapsed": true
   },
   "outputs": [],
   "source": []
  },
  {
   "cell_type": "code",
   "execution_count": 1,
   "outputs": [
    {
     "name": "stderr",
     "output_type": "stream",
     "text": [
      "C:\\Users\\aniru\\AppData\\Local\\Programs\\Python\\Python312\\Lib\\site-packages\\sentence_transformers\\cross_encoder\\CrossEncoder.py:13: TqdmExperimentalWarning: Using `tqdm.autonotebook.tqdm` in notebook mode. Use `tqdm.tqdm` instead to force console mode (e.g. in jupyter console)\n",
      "  from tqdm.autonotebook import tqdm, trange\n"
     ]
    },
    {
     "name": "stdout",
     "output_type": "stream",
     "text": [
      "WARNING:tensorflow:From C:\\Users\\aniru\\AppData\\Local\\Programs\\Python\\Python312\\Lib\\site-packages\\tf_keras\\src\\losses.py:2976: The name tf.losses.sparse_softmax_cross_entropy is deprecated. Please use tf.compat.v1.losses.sparse_softmax_cross_entropy instead.\n"
     ]
    }
   ],
   "source": [
    "from dotenv import load_dotenv\n",
    "from sentence_transformers import SentenceTransformer\n",
    "from sentence_transformers.util import cos_sim\n",
    "import os\n",
    "import google.generativeai as genai\n",
    "import fitz\n",
    "\n",
    "printable = set(list(' ,`0123456789-=~!@#$%^&*()_+abcdefghijklmnopqrstuvwxyzABCDEFGHIJKLMNOPQRSTUVWXYZ,:;\"\\'/\\n[]\\\\{}|?><.'))\n",
    "bloat = {'per', 'and', 'but', 'the', 'for', 'are', 'was', 'were', 'be', 'been', 'with', 'you', 'this', 'but', 'his',\n",
    "         'from', 'they', 'say', 'her', 'she', 'will', 'one', 'all', 'would', 'there', 'their', 'what', 'out', 'about',\n",
    "         'who', 'get', 'which', 'when', 'make', 'can', 'like', 'time', 'just', 'into', 'year', 'your', 'good', 'some',\n",
    "         'could', 'them', 'see', 'other', 'than', 'then', 'now', 'look', 'only', 'come', 'its', 'over', 'think', 'also',\n",
    "         'back', 'after', 'use', 'two', 'how', 'our', 'work', 'first', 'well', 'way', 'even', 'new', 'want', 'because',\n",
    "         'any', 'these', 'give', 'day', 'most'}\n",
    "load_dotenv()\n",
    "GEMINI_API_KEY = os.getenv('GEMINI_API_KEY')\n",
    "genai.configure(api_key=GEMINI_API_KEY)\n",
    "\n",
    "theta = SentenceTransformer(\"mixedbread-ai/mxbai-embed-large-v1\")"
   ],
   "metadata": {
    "collapsed": false,
    "ExecuteTime": {
     "end_time": "2024-09-28T07:22:27.077279200Z",
     "start_time": "2024-09-28T07:22:08.729271300Z"
    }
   },
   "id": "1ff3dcc52e20a7a"
  },
  {
   "cell_type": "code",
   "execution_count": 2,
   "outputs": [],
   "source": [
    "def delimiter(phraset):\n",
    "    l0 = 1\n",
    "    for i in range(3):\n",
    "        if phraset[i][1]>0.62:\n",
    "            l0 += 1\n",
    "    l1 = l0 + 1\n",
    "    for i in range(10):\n",
    "        if phraset[l0+i][1]>0.60:\n",
    "            l1 += 1\n",
    "    l2 = l1 + 1\n",
    "    for i in range(20):\n",
    "        if phraset[l1+i][1] >= 0.52:\n",
    "            l2 += 1\n",
    "\n",
    "    i1 = [x[0] for x in phraset[:l0]]\n",
    "    i2 = [x[0] for x in phraset[l0:l1]]\n",
    "    i3 = [x[0] for x in phraset[l1:l2]]\n",
    "    return [i1, i2, i3]\n",
    "\n",
    "\n",
    "def phrases_by_relevance(text, prompts):\n",
    "    qembed = theta.encode([*prompts])\n",
    "    embeddings = theta.encode(text)\n",
    "    result = [tensor.item() for tensor in list(cos_sim(qembed, embeddings)[0])]\n",
    "    phraset = [(text[i], result[i]) for i in range(len(text))]\n",
    "    phraset.sort(key=lambda x: x[1], reverse=True)\n",
    "    return phraset\n",
    "\n",
    "\n",
    "def cleaned(t):\n",
    "    return \"\".join([i for i in t if i in printable])\n",
    "\n",
    "\n",
    "def pdf_to_text(pdf):\n",
    "    with fitz.open(pdf) as doc:\n",
    "        ina = [cleaned(page.get_text()).split(\"\\n\") for page in doc]\n",
    "        texta = []\n",
    "        for a in ina:\n",
    "            texta += a\n",
    "        print(\"found text:\", texta)\n",
    "    return [k for k in texta if len(k)>2 and not k.isspace() and k not in bloat]"
   ],
   "metadata": {
    "collapsed": false,
    "ExecuteTime": {
     "end_time": "2024-09-28T07:22:30.785268Z",
     "start_time": "2024-09-28T07:22:30.776179300Z"
    }
   },
   "id": "69b640684cb04a01"
  },
  {
   "cell_type": "code",
   "execution_count": 9,
   "outputs": [],
   "source": [
    "import torch\n",
    "import numpy as np\n",
    "def pooling(outputs: torch.Tensor, inputs: dict,  strategy: str = 'cls') -> np.ndarray:\n",
    "    if strategy == 'cls':\n",
    "        outputs = outputs[:, 0]\n",
    "    elif strategy == 'mean':\n",
    "        outputs = torch.sum(\n",
    "            outputs * inputs[\"attention_mask\"][:, :, None], dim=1) / torch.sum(inputs[\"attention_mask\"], dim=1, keepdim=True)\n",
    "    else:\n",
    "        raise NotImplementedError\n",
    "    return outputs.detach().cpu().numpy()"
   ],
   "metadata": {
    "collapsed": false,
    "ExecuteTime": {
     "end_time": "2024-09-28T07:28:54.604261Z",
     "start_time": "2024-09-28T07:28:54.583731200Z"
    }
   },
   "id": "954b91e3715afb92"
  },
  {
   "cell_type": "code",
   "execution_count": 4,
   "outputs": [
    {
     "name": "stdout",
     "output_type": "stream",
     "text": [
      "found text: ['BILINGUAL LANGUAGE ARTS SIXTH GRADE TEACHER', 'Summary', \"Dedicated and enthusiastic professional with over four years' experience in education. Proven expertise in establishing rapport and building trust\", 'among students, parents, administrators and community members. Possess strong communication skills and ability to partner across departments', 'within and outside of an organization to meet the needs of students. Motivating students School improvement committee Interactive', 'teaching/learning Interdisciplinary teaching Innovative lesson planning Effectively work with parents', 'Professional Experience', '08/2014 to Current', 'Bilingual Language Arts Sixth Grade Teacher Company Name  City , State', 'Developed and implemented interesting and interactive learning mediums to increase student understanding of course materials and build', 'community within the classroom Participate in the development of intervention plans for students within the classroom setting, during MVP', 'time (tutoring hour) as well as after school tutoring Oversee Read 180 program participants and monitor their progress as part of their', 'intervention strategy Implementation of newer educational technology programs in order to teach students new techniques to use within their', 'presentations to showcase their knowledge some examples include: Prezi, Storyboard That, Edmodo, Thinglink, and others Participate in', 'district Community Ambassador program and campus improvement committee.', '01/2014 to 05/2014', 'Bilingual Substitute Teacher Company Name  City , State', 'Worked in elementary schools and substitute several classroom programs inclusive of: Early Childhood-6 mainstream, Spanish Immersion,', 'Bilingual (Spanish) Early Childhood-6, and Special Education.', 'Provided key support for teachers on leave.', '07/2013 to 01/2014', 'Bilingual 4th Grade Teacher Company Name  City , State', 'Developed and implemented plans inclusive of: following Independent Education Plans (Special Education), Gifted and Talented curriculum,', 'and mainstream English/Spanish language arts, writing and history Analyze data to plan and implement appropriate instruction to reflect', 'accommodations for individual students Cooperate with other members of the staff in planning and implementing instructional goals and', 'objectives Establish and maintain open lines of communication with students and their parents Participate in a wide range of district and', 'campus professional development to include: Gifted and Talented coursework, wide range of education technology applications, as well as', 'Love and Logic training.', '04/2011 to 07/2012', 'Student Development Assistant Company Name  City , State', 'Coordinated community tours for prospective students, families and community visitors Created data intensive reports based on', 'TAKS/STAAR test results for local feeder schools for supervisor to present to upper administration Collaborated with the FWISD Vital', 'Link program to create a summer college exploration/ internship program for local middle school students.', '06/2010 to 07/2010', 'Academic Advisor/ Spanish Instructor Company Name  City , State', 'Assisted students one-on-one with college preparation assignments such as: career exploration, school selection, resume writing, and letters', 'of recommendation Taught students hybrid course: Introduction to Spanish and Hispanic/Latin American Studies.', '07/2009 to 07/2010', 'Program Coordinator Company Name  City , State', 'Oversaw the development of a start-up organization Managed a $200,000 federal Gear up grant Utilized research based best practices to', 'create community workshops for parents and students as well as developed staff and advisor manuals Developed community partnerships', 'and presented NACRC to organizations Received promotion from AmeriCorps VISTA position.', '01/2009 to 05/2009', 'Math Teacher Company Name  City , State', 'Taught beginner English grammar and literature, World History and TOEFL Prep to international students Tutored Algebra and was', 'promoted to remedial math teacher position Advised international students and tutored Spanish.', 'Education and Training', 'May 2011', 'Tarrant County College', 'Employee of the Month Educational Support Services Department February 2010 AmeriCorps VISTA: Most Inspirational Employee December', '2009 Northern Arizona University', '2009', 'Bachelor of Arts : International Studies Elon University  City , State International Studies', 'Presidential Scholar; Resident Assistant- RA of the Month February 2007 and October 2006; Global Experience Program: Costa Rica 2008 with', '', 'internship, Winter Term: Paris 2007, London 2006; Elon Volunteers: Boys and Girls Club Alamance County Community College', 'Affiliations', 'Association of Texas Professional Educators (ATPE) LANGUAGES English and Spanish', 'Skills', 'arts, English, instruction, Latin, letters, Logic, materials, math, presentations, progress, promotion, Read, research, Spanish, Spanish language,', 'strategy, supervisor, teacher, tutoring, VISTA, workshops', '']\n",
      "context: ['BILINGUAL LANGUAGE ARTS SIXTH GRADE TEACHER', 'Summary', \"Dedicated and enthusiastic professional with over four years' experience in education. Proven expertise in establishing rapport and building trust\", 'among students, parents, administrators and community members. Possess strong communication skills and ability to partner across departments', 'within and outside of an organization to meet the needs of students. Motivating students School improvement committee Interactive', 'teaching/learning Interdisciplinary teaching Innovative lesson planning Effectively work with parents', 'Professional Experience', '08/2014 to Current', 'Bilingual Language Arts Sixth Grade Teacher Company Name  City , State', 'Developed and implemented interesting and interactive learning mediums to increase student understanding of course materials and build', 'community within the classroom Participate in the development of intervention plans for students within the classroom setting, during MVP', 'time (tutoring hour) as well as after school tutoring Oversee Read 180 program participants and monitor their progress as part of their', 'intervention strategy Implementation of newer educational technology programs in order to teach students new techniques to use within their', 'presentations to showcase their knowledge some examples include: Prezi, Storyboard That, Edmodo, Thinglink, and others Participate in', 'district Community Ambassador program and campus improvement committee.', '01/2014 to 05/2014', 'Bilingual Substitute Teacher Company Name  City , State', 'Worked in elementary schools and substitute several classroom programs inclusive of: Early Childhood-6 mainstream, Spanish Immersion,', 'Bilingual (Spanish) Early Childhood-6, and Special Education.', 'Provided key support for teachers on leave.', '07/2013 to 01/2014', 'Bilingual 4th Grade Teacher Company Name  City , State', 'Developed and implemented plans inclusive of: following Independent Education Plans (Special Education), Gifted and Talented curriculum,', 'and mainstream English/Spanish language arts, writing and history Analyze data to plan and implement appropriate instruction to reflect', 'accommodations for individual students Cooperate with other members of the staff in planning and implementing instructional goals and', 'objectives Establish and maintain open lines of communication with students and their parents Participate in a wide range of district and', 'campus professional development to include: Gifted and Talented coursework, wide range of education technology applications, as well as', 'Love and Logic training.', '04/2011 to 07/2012', 'Student Development Assistant Company Name  City , State', 'Coordinated community tours for prospective students, families and community visitors Created data intensive reports based on', 'TAKS/STAAR test results for local feeder schools for supervisor to present to upper administration Collaborated with the FWISD Vital', 'Link program to create a summer college exploration/ internship program for local middle school students.', '06/2010 to 07/2010', 'Academic Advisor/ Spanish Instructor Company Name  City , State', 'Assisted students one-on-one with college preparation assignments such as: career exploration, school selection, resume writing, and letters', 'of recommendation Taught students hybrid course: Introduction to Spanish and Hispanic/Latin American Studies.', '07/2009 to 07/2010', 'Program Coordinator Company Name  City , State', 'Oversaw the development of a start-up organization Managed a $200,000 federal Gear up grant Utilized research based best practices to', 'create community workshops for parents and students as well as developed staff and advisor manuals Developed community partnerships', 'and presented NACRC to organizations Received promotion from AmeriCorps VISTA position.', '01/2009 to 05/2009', 'Math Teacher Company Name  City , State', 'Taught beginner English grammar and literature, World History and TOEFL Prep to international students Tutored Algebra and was', 'promoted to remedial math teacher position Advised international students and tutored Spanish.', 'Education and Training', 'May 2011', 'Tarrant County College', 'Employee of the Month Educational Support Services Department February 2010 AmeriCorps VISTA: Most Inspirational Employee December', '2009 Northern Arizona University', '2009', 'Bachelor of Arts : International Studies Elon University  City , State International Studies', 'Presidential Scholar; Resident Assistant- RA of the Month February 2007 and October 2006; Global Experience Program: Costa Rica 2008 with', 'internship, Winter Term: Paris 2007, London 2006; Elon Volunteers: Boys and Girls Club Alamance County Community College', 'Affiliations', 'Association of Texas Professional Educators (ATPE) LANGUAGES English and Spanish', 'Skills', 'arts, English, instruction, Latin, letters, Logic, materials, math, presentations, progress, promotion, Read, research, Spanish, Spanish language,', 'strategy, supervisor, teacher, tutoring, VISTA, workshops']\n"
     ]
    }
   ],
   "source": [
    "def process_pdf():\n",
    "    context = pdf_to_text('Final_Resumes/Resume_of_ID_0.pdf')\n",
    "    \n",
    "    print(\"context:\", context)\n",
    "\n",
    "\n",
    "process_pdf()"
   ],
   "metadata": {
    "collapsed": false,
    "ExecuteTime": {
     "end_time": "2024-09-28T07:25:41.663637400Z",
     "start_time": "2024-09-28T07:25:41.631478300Z"
    }
   },
   "id": "96e2eb7081898c83"
  },
  {
   "cell_type": "code",
   "execution_count": 15,
   "outputs": [
    {
     "name": "stdout",
     "output_type": "stream",
     "text": [
      "found text: ['BILINGUAL LANGUAGE ARTS SIXTH GRADE TEACHER', 'Summary', \"Dedicated and enthusiastic professional with over four years' experience in education. Proven expertise in establishing rapport and building trust\", 'among students, parents, administrators and community members. Possess strong communication skills and ability to partner across departments', 'within and outside of an organization to meet the needs of students. Motivating students School improvement committee Interactive', 'teaching/learning Interdisciplinary teaching Innovative lesson planning Effectively work with parents', 'Professional Experience', '08/2014 to Current', 'Bilingual Language Arts Sixth Grade Teacher Company Name  City , State', 'Developed and implemented interesting and interactive learning mediums to increase student understanding of course materials and build', 'community within the classroom Participate in the development of intervention plans for students within the classroom setting, during MVP', 'time (tutoring hour) as well as after school tutoring Oversee Read 180 program participants and monitor their progress as part of their', 'intervention strategy Implementation of newer educational technology programs in order to teach students new techniques to use within their', 'presentations to showcase their knowledge some examples include: Prezi, Storyboard That, Edmodo, Thinglink, and others Participate in', 'district Community Ambassador program and campus improvement committee.', '01/2014 to 05/2014', 'Bilingual Substitute Teacher Company Name  City , State', 'Worked in elementary schools and substitute several classroom programs inclusive of: Early Childhood-6 mainstream, Spanish Immersion,', 'Bilingual (Spanish) Early Childhood-6, and Special Education.', 'Provided key support for teachers on leave.', '07/2013 to 01/2014', 'Bilingual 4th Grade Teacher Company Name  City , State', 'Developed and implemented plans inclusive of: following Independent Education Plans (Special Education), Gifted and Talented curriculum,', 'and mainstream English/Spanish language arts, writing and history Analyze data to plan and implement appropriate instruction to reflect', 'accommodations for individual students Cooperate with other members of the staff in planning and implementing instructional goals and', 'objectives Establish and maintain open lines of communication with students and their parents Participate in a wide range of district and', 'campus professional development to include: Gifted and Talented coursework, wide range of education technology applications, as well as', 'Love and Logic training.', '04/2011 to 07/2012', 'Student Development Assistant Company Name  City , State', 'Coordinated community tours for prospective students, families and community visitors Created data intensive reports based on', 'TAKS/STAAR test results for local feeder schools for supervisor to present to upper administration Collaborated with the FWISD Vital', 'Link program to create a summer college exploration/ internship program for local middle school students.', '06/2010 to 07/2010', 'Academic Advisor/ Spanish Instructor Company Name  City , State', 'Assisted students one-on-one with college preparation assignments such as: career exploration, school selection, resume writing, and letters', 'of recommendation Taught students hybrid course: Introduction to Spanish and Hispanic/Latin American Studies.', '07/2009 to 07/2010', 'Program Coordinator Company Name  City , State', 'Oversaw the development of a start-up organization Managed a $200,000 federal Gear up grant Utilized research based best practices to', 'create community workshops for parents and students as well as developed staff and advisor manuals Developed community partnerships', 'and presented NACRC to organizations Received promotion from AmeriCorps VISTA position.', '01/2009 to 05/2009', 'Math Teacher Company Name  City , State', 'Taught beginner English grammar and literature, World History and TOEFL Prep to international students Tutored Algebra and was', 'promoted to remedial math teacher position Advised international students and tutored Spanish.', 'Education and Training', 'May 2011', 'Tarrant County College', 'Employee of the Month Educational Support Services Department February 2010 AmeriCorps VISTA: Most Inspirational Employee December', '2009 Northern Arizona University', '2009', 'Bachelor of Arts : International Studies Elon University  City , State International Studies', 'Presidential Scholar; Resident Assistant- RA of the Month February 2007 and October 2006; Global Experience Program: Costa Rica 2008 with', '', 'internship, Winter Term: Paris 2007, London 2006; Elon Volunteers: Boys and Girls Club Alamance County Community College', 'Affiliations', 'Association of Texas Professional Educators (ATPE) LANGUAGES English and Spanish', 'Skills', 'arts, English, instruction, Latin, letters, Logic, materials, math, presentations, progress, promotion, Read, research, Spanish, Spanish language,', 'strategy, supervisor, teacher, tutoring, VISTA, workshops', '']\n",
      "similarities: tensor([[0.3663, 0.5511, 0.3606, 0.3494, 0.3638, 0.3599, 0.4535, 0.5251, 0.4041,\n",
      "         0.3352, 0.3513, 0.3432, 0.3563, 0.3530, 0.3541, 0.5767, 0.4339, 0.3851,\n",
      "         0.4375, 0.3856, 0.5874, 0.4313, 0.3835, 0.3666, 0.3721, 0.3791, 0.2909,\n",
      "         0.3868, 0.5809, 0.3833, 0.3732, 0.4101, 0.3125, 0.4975, 0.4230, 0.3796,\n",
      "         0.4068, 0.4993, 0.4123, 0.4307, 0.3460, 0.4060, 0.5346, 0.4012, 0.3889,\n",
      "         0.3595, 0.4437, 0.4849, 0.3443, 0.3908, 0.3495, 0.4645, 0.4140, 0.4110,\n",
      "         0.4244, 0.4654, 0.4202, 0.4160, 0.4020, 0.3791]])\n"
     ]
    }
   ],
   "source": [
    "from typing import Dict\n",
    "\n",
    "import torch\n",
    "import numpy as np\n",
    "from transformers import AutoModel, AutoTokenizer\n",
    "from sentence_transformers.util import cos_sim\n",
    "\n",
    "# For retrieval you need to pass this prompt. Please find our more in our blog post.\n",
    "def transform_query(query: str) -> str:\n",
    "    return f'Represent this sentence for searching relevant passages: {query}'\n",
    "\n",
    "# The model works really well with cls pooling (default) but also with mean pooling.\n",
    "def pooling(outputs: torch.Tensor, inputs: Dict,  strategy: str = 'cls') -> np.ndarray:\n",
    "    if strategy == 'cls':\n",
    "        outputs = outputs[:, 0]\n",
    "    elif strategy == 'mean':\n",
    "        outputs = torch.sum(\n",
    "            outputs * inputs[\"attention_mask\"][:, :, None], dim=1) / torch.sum(inputs[\"attention_mask\"], dim=1, keepdim=True)\n",
    "    else:\n",
    "        raise NotImplementedError\n",
    "    return outputs.detach().cpu().numpy()\n",
    "\n",
    "# 1. load model\n",
    "model_id = 'mixedbread-ai/mxbai-embed-large-v1'\n",
    "tokenizer = AutoTokenizer.from_pretrained(model_id)\n",
    "model = AutoModel.from_pretrained(model_id)\n",
    "\n",
    "\n",
    "docs = [\n",
    "    transform_query('01/2001'),\n",
    "] + pdf_to_text('Final_Resumes/Resume_of_ID_0.pdf')\n",
    "\n",
    "# 2. encode\n",
    "inputs = tokenizer(docs, padding=True, return_tensors='pt')\n",
    "for k, v in inputs.items():\n",
    "    inputs[k] = v\n",
    "outputs = model(**inputs).last_hidden_state\n",
    "embeddings = pooling(outputs, inputs, 'cls')\n",
    "\n",
    "similarities = cos_sim(embeddings[0], embeddings[1:])\n",
    "print('similarities:', similarities)"
   ],
   "metadata": {
    "collapsed": false,
    "ExecuteTime": {
     "end_time": "2024-09-28T07:57:04.122837800Z",
     "start_time": "2024-09-28T07:56:35.055501800Z"
    }
   },
   "id": "6d19531c2d3787f3"
  },
  {
   "cell_type": "code",
   "execution_count": null,
   "outputs": [],
   "source": [],
   "metadata": {
    "collapsed": false
   },
   "id": "58de632e69d6d469"
  }
 ],
 "metadata": {
  "kernelspec": {
   "display_name": "Python 3",
   "language": "python",
   "name": "python3"
  },
  "language_info": {
   "codemirror_mode": {
    "name": "ipython",
    "version": 2
   },
   "file_extension": ".py",
   "mimetype": "text/x-python",
   "name": "python",
   "nbconvert_exporter": "python",
   "pygments_lexer": "ipython2",
   "version": "2.7.6"
  }
 },
 "nbformat": 4,
 "nbformat_minor": 5
}

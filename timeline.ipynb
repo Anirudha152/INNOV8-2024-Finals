{
 "cells": [
  {
   "cell_type": "code",
   "execution_count": null,
   "id": "initial_id",
   "metadata": {
    "collapsed": true
   },
   "outputs": [],
   "source": []
  },
  {
   "cell_type": "code",
   "execution_count": 1,
   "outputs": [
    {
     "name": "stderr",
     "output_type": "stream",
     "text": [
      "C:\\Users\\aniru\\AppData\\Local\\Programs\\Python\\Python312\\Lib\\site-packages\\sentence_transformers\\cross_encoder\\CrossEncoder.py:13: TqdmExperimentalWarning: Using `tqdm.autonotebook.tqdm` in notebook mode. Use `tqdm.tqdm` instead to force console mode (e.g. in jupyter console)\n",
      "  from tqdm.autonotebook import tqdm, trange\n"
     ]
    },
    {
     "name": "stdout",
     "output_type": "stream",
     "text": [
      "WARNING:tensorflow:From C:\\Users\\aniru\\AppData\\Local\\Programs\\Python\\Python312\\Lib\\site-packages\\tf_keras\\src\\losses.py:2976: The name tf.losses.sparse_softmax_cross_entropy is deprecated. Please use tf.compat.v1.losses.sparse_softmax_cross_entropy instead.\n"
     ]
    }
   ],
   "source": [
    "from dotenv import load_dotenv\n",
    "from sentence_transformers import SentenceTransformer\n",
    "from sentence_transformers.util import cos_sim\n",
    "import os\n",
    "import google.generativeai as genai\n",
    "import fitz\n",
    "\n",
    "printable = set(list(' ,`0123456789-=~!@#$%^&*()_+abcdefghijklmnopqrstuvwxyzABCDEFGHIJKLMNOPQRSTUVWXYZ,:;\"\\'/\\n[]\\\\{}|?><.'))\n",
    "bloat = {'per', 'and', 'but', 'the', 'for', 'are', 'was', 'were', 'be', 'been', 'with', 'you', 'this', 'but', 'his',\n",
    "         'from', 'they', 'say', 'her', 'she', 'will', 'one', 'all', 'would', 'there', 'their', 'what', 'out', 'about',\n",
    "         'who', 'get', 'which', 'when', 'make', 'can', 'like', 'time', 'just', 'into', 'year', 'your', 'good', 'some',\n",
    "         'could', 'them', 'see', 'other', 'than', 'then', 'now', 'look', 'only', 'come', 'its', 'over', 'think', 'also',\n",
    "         'back', 'after', 'use', 'two', 'how', 'our', 'work', 'first', 'well', 'way', 'even', 'new', 'want', 'because',\n",
    "         'any', 'these', 'give', 'day', 'most'}\n",
    "load_dotenv()\n",
    "GEMINI_API_KEY = os.getenv('GEMINI_API_KEY')\n",
    "genai.configure(api_key=GEMINI_API_KEY)\n",
    "\n",
    "theta = SentenceTransformer(\"mixedbread-ai/mxbai-embed-large-v1\")"
   ],
   "metadata": {
    "collapsed": false,
    "ExecuteTime": {
     "end_time": "2024-09-28T07:22:27.077279200Z",
     "start_time": "2024-09-28T07:22:08.729271300Z"
    }
   },
   "id": "1ff3dcc52e20a7a"
  },
  {
   "cell_type": "code",
   "execution_count": 2,
   "outputs": [],
   "source": [
    "def delimiter(phraset):\n",
    "    l0 = 1\n",
    "    for i in range(3):\n",
    "        if phraset[i][1]>0.62:\n",
    "            l0 += 1\n",
    "    l1 = l0 + 1\n",
    "    for i in range(10):\n",
    "        if phraset[l0+i][1]>0.60:\n",
    "            l1 += 1\n",
    "    l2 = l1 + 1\n",
    "    for i in range(20):\n",
    "        if phraset[l1+i][1] >= 0.52:\n",
    "            l2 += 1\n",
    "\n",
    "    i1 = [x[0] for x in phraset[:l0]]\n",
    "    i2 = [x[0] for x in phraset[l0:l1]]\n",
    "    i3 = [x[0] for x in phraset[l1:l2]]\n",
    "    return [i1, i2, i3]\n",
    "\n",
    "\n",
    "def phrases_by_relevance(text, prompts):\n",
    "    qembed = theta.encode([*prompts])\n",
    "    embeddings = theta.encode(text)\n",
    "    result = [tensor.item() for tensor in list(cos_sim(qembed, embeddings)[0])]\n",
    "    phraset = [(text[i], result[i]) for i in range(len(text))]\n",
    "    phraset.sort(key=lambda x: x[1], reverse=True)\n",
    "    return phraset\n",
    "\n",
    "\n",
    "def cleaned(t):\n",
    "    return \"\".join([i for i in t if i in printable])\n",
    "\n",
    "\n",
    "def pdf_to_text(pdf):\n",
    "    with fitz.open(pdf) as doc:\n",
    "        ina = [cleaned(page.get_text()).split(\"\\n\") for page in doc]\n",
    "        texta = []\n",
    "        for a in ina:\n",
    "            texta += a\n",
    "        print(\"found text:\", texta)\n",
    "    return [k for k in texta if len(k)>2 and not k.isspace() and k not in bloat]"
   ],
   "metadata": {
    "collapsed": false,
    "ExecuteTime": {
     "end_time": "2024-09-28T07:22:30.785268Z",
     "start_time": "2024-09-28T07:22:30.776179300Z"
    }
   },
   "id": "69b640684cb04a01"
  },
  {
   "cell_type": "code",
   "execution_count": 3,
   "outputs": [
    {
     "name": "stdout",
     "output_type": "stream",
     "text": [
      "HI\n",
      "found text: ['BILINGUAL LANGUAGE ARTS SIXTH GRADE TEACHER', 'Summary', \"Dedicated and enthusiastic professional with over four years' experience in education. Proven expertise in establishing rapport and building trust\", 'among students, parents, administrators and community members. Possess strong communication skills and ability to partner across departments', 'within and outside of an organization to meet the needs of students. Motivating students School improvement committee Interactive', 'teaching/learning Interdisciplinary teaching Innovative lesson planning Effectively work with parents', 'Professional Experience', '08/2014 to Current', 'Bilingual Language Arts Sixth Grade Teacher Company Name  City , State', 'Developed and implemented interesting and interactive learning mediums to increase student understanding of course materials and build', 'community within the classroom Participate in the development of intervention plans for students within the classroom setting, during MVP', 'time (tutoring hour) as well as after school tutoring Oversee Read 180 program participants and monitor their progress as part of their', 'intervention strategy Implementation of newer educational technology programs in order to teach students new techniques to use within their', 'presentations to showcase their knowledge some examples include: Prezi, Storyboard That, Edmodo, Thinglink, and others Participate in', 'district Community Ambassador program and campus improvement committee.', '01/2014 to 05/2014', 'Bilingual Substitute Teacher Company Name  City , State', 'Worked in elementary schools and substitute several classroom programs inclusive of: Early Childhood-6 mainstream, Spanish Immersion,', 'Bilingual (Spanish) Early Childhood-6, and Special Education.', 'Provided key support for teachers on leave.', '07/2013 to 01/2014', 'Bilingual 4th Grade Teacher Company Name  City , State', 'Developed and implemented plans inclusive of: following Independent Education Plans (Special Education), Gifted and Talented curriculum,', 'and mainstream English/Spanish language arts, writing and history Analyze data to plan and implement appropriate instruction to reflect', 'accommodations for individual students Cooperate with other members of the staff in planning and implementing instructional goals and', 'objectives Establish and maintain open lines of communication with students and their parents Participate in a wide range of district and', 'campus professional development to include: Gifted and Talented coursework, wide range of education technology applications, as well as', 'Love and Logic training.', '04/2011 to 07/2012', 'Student Development Assistant Company Name  City , State', 'Coordinated community tours for prospective students, families and community visitors Created data intensive reports based on', 'TAKS/STAAR test results for local feeder schools for supervisor to present to upper administration Collaborated with the FWISD Vital', 'Link program to create a summer college exploration/ internship program for local middle school students.', '06/2010 to 07/2010', 'Academic Advisor/ Spanish Instructor Company Name  City , State', 'Assisted students one-on-one with college preparation assignments such as: career exploration, school selection, resume writing, and letters', 'of recommendation Taught students hybrid course: Introduction to Spanish and Hispanic/Latin American Studies.', '07/2009 to 07/2010', 'Program Coordinator Company Name  City , State', 'Oversaw the development of a start-up organization Managed a $200,000 federal Gear up grant Utilized research based best practices to', 'create community workshops for parents and students as well as developed staff and advisor manuals Developed community partnerships', 'and presented NACRC to organizations Received promotion from AmeriCorps VISTA position.', '01/2009 to 05/2009', 'Math Teacher Company Name  City , State', 'Taught beginner English grammar and literature, World History and TOEFL Prep to international students Tutored Algebra and was', 'promoted to remedial math teacher position Advised international students and tutored Spanish.', 'Education and Training', 'May 2011', 'Tarrant County College', 'Employee of the Month Educational Support Services Department February 2010 AmeriCorps VISTA: Most Inspirational Employee December', '2009 Northern Arizona University', '2009', 'Bachelor of Arts : International Studies Elon University  City , State International Studies', 'Presidential Scholar; Resident Assistant- RA of the Month February 2007 and October 2006; Global Experience Program: Costa Rica 2008 with', '', 'internship, Winter Term: Paris 2007, London 2006; Elon Volunteers: Boys and Girls Club Alamance County Community College', 'Affiliations', 'Association of Texas Professional Educators (ATPE) LANGUAGES English and Spanish', 'Skills', 'arts, English, instruction, Latin, letters, Logic, materials, math, presentations, progress, promotion, Read, research, Spanish, Spanish language,', 'strategy, supervisor, teacher, tutoring, VISTA, workshops', '']\n",
      "Passing these relevant texts to limiter: [('01/2014 to 05/2014', 0.736501932144165), ('01/2009 to 05/2009', 0.7171522378921509), ('07/2013 to 01/2014', 0.7048852443695068), ('06/2010 to 07/2010', 0.6930291652679443), ('07/2009 to 07/2010', 0.6840725541114807), ('08/2014 to Current', 0.6761995553970337), ('04/2011 to 07/2012', 0.6733728647232056), ('Summary', 0.5741979479789734), ('2009', 0.5494918823242188), ('Skills', 0.5195035338401794), ('arts, English, instruction, Latin, letters, Logic, materials, math, presentations, progress, promotion, Read, research, Spanish, Spanish language,', 0.5069230794906616), ('Math Teacher Company Name  City , State', 0.49692484736442566), ('Bilingual Substitute Teacher Company Name  City , State', 0.49263906478881836), ('Program Coordinator Company Name  City , State', 0.49088484048843384), ('strategy, supervisor, teacher, tutoring, VISTA, workshops', 0.4907076358795166), ('Academic Advisor/ Spanish Instructor Company Name  City , State', 0.4814698100090027), ('Professional Experience', 0.48116225004196167), ('Affiliations', 0.4800899624824524), ('time (tutoring hour) as well as after school tutoring Oversee Read 180 program participants and monitor their progress as part of their', 0.4782981276512146), ('Education and Training', 0.470977783203125), ('Taught beginner English grammar and literature, World History and TOEFL Prep to international students Tutored Algebra and was', 0.468811571598053), ('Bilingual (Spanish) Early Childhood-6, and Special Education.', 0.4627060294151306), ('TAKS/STAAR test results for local feeder schools for supervisor to present to upper administration Collaborated with the FWISD Vital', 0.46264657378196716), ('Bilingual 4th Grade Teacher Company Name  City , State', 0.46147453784942627), ('Love and Logic training.', 0.4603230953216553), ('Worked in elementary schools and substitute several classroom programs inclusive of: Early Childhood-6 mainstream, Spanish Immersion,', 0.45812341570854187), ('of recommendation Taught students hybrid course: Introduction to Spanish and Hispanic/Latin American Studies.', 0.4565610885620117), ('objectives Establish and maintain open lines of communication with students and their parents Participate in a wide range of district and', 0.45492076873779297), ('Bilingual Language Arts Sixth Grade Teacher Company Name  City , State', 0.45213186740875244), ('Assisted students one-on-one with college preparation assignments such as: career exploration, school selection, resume writing, and letters', 0.44803959131240845), ('Association of Texas Professional Educators (ATPE) LANGUAGES English and Spanish', 0.4466295540332794), ('May 2011', 0.4456784725189209), ('Provided key support for teachers on leave.', 0.4445918798446655), ('Employee of the Month Educational Support Services Department February 2010 AmeriCorps VISTA: Most Inspirational Employee December', 0.4435638189315796), ('promoted to remedial math teacher position Advised international students and tutored Spanish.', 0.4416617751121521), ('Student Development Assistant Company Name  City , State', 0.43931353092193604), ('presentations to showcase their knowledge some examples include: Prezi, Storyboard That, Edmodo, Thinglink, and others Participate in', 0.4386136829853058), ('accommodations for individual students Cooperate with other members of the staff in planning and implementing instructional goals and', 0.435377836227417), ('teaching/learning Interdisciplinary teaching Innovative lesson planning Effectively work with parents', 0.4299674928188324), (\"Dedicated and enthusiastic professional with over four years' experience in education. Proven expertise in establishing rapport and building trust\", 0.42844751477241516), ('internship, Winter Term: Paris 2007, London 2006; Elon Volunteers: Boys and Girls Club Alamance County Community College', 0.4241352677345276), ('community within the classroom Participate in the development of intervention plans for students within the classroom setting, during MVP', 0.4229905605316162), ('BILINGUAL LANGUAGE ARTS SIXTH GRADE TEACHER', 0.41945913434028625), ('among students, parents, administrators and community members. Possess strong communication skills and ability to partner across departments', 0.41847458481788635), ('Developed and implemented plans inclusive of: following Independent Education Plans (Special Education), Gifted and Talented curriculum,', 0.41719377040863037), ('within and outside of an organization to meet the needs of students. Motivating students School improvement committee Interactive', 0.416686475276947), ('2009 Northern Arizona University', 0.41624191403388977), ('intervention strategy Implementation of newer educational technology programs in order to teach students new techniques to use within their', 0.4144511818885803), ('and mainstream English/Spanish language arts, writing and history Analyze data to plan and implement appropriate instruction to reflect', 0.412117600440979), ('Presidential Scholar; Resident Assistant- RA of the Month February 2007 and October 2006; Global Experience Program: Costa Rica 2008 with', 0.41020554304122925), ('Link program to create a summer college exploration/ internship program for local middle school students.', 0.4073134660720825), ('create community workshops for parents and students as well as developed staff and advisor manuals Developed community partnerships', 0.4022893011569977), ('Developed and implemented interesting and interactive learning mediums to increase student understanding of course materials and build', 0.3988496661186218), ('Tarrant County College', 0.3970707952976227), ('Coordinated community tours for prospective students, families and community visitors Created data intensive reports based on', 0.39706963300704956), ('Bachelor of Arts : International Studies Elon University  City , State International Studies', 0.3931795060634613), ('and presented NACRC to organizations Received promotion from AmeriCorps VISTA position.', 0.39058011770248413), ('campus professional development to include: Gifted and Talented coursework, wide range of education technology applications, as well as', 0.370802104473114), ('Oversaw the development of a start-up organization Managed a $200,000 federal Gear up grant Utilized research based best practices to', 0.3678455352783203), ('district Community Ambassador program and campus improvement committee.', 0.35898807644844055)]\n",
      "importance order: [['01/2014 to 05/2014', '01/2009 to 05/2009', '07/2013 to 01/2014', '06/2010 to 07/2010'], ['07/2009 to 07/2010', '08/2014 to Current', '04/2011 to 07/2012', 'Summary'], ['2009', 'Skills']]\n",
      "[('01/2014 to 05/2014', 0.736501932144165), ('01/2009 to 05/2009', 0.7171522378921509), ('07/2013 to 01/2014', 0.7048852443695068), ('06/2010 to 07/2010', 0.6930291652679443), ('07/2009 to 07/2010', 0.6840725541114807), ('08/2014 to Current', 0.6761995553970337), ('04/2011 to 07/2012', 0.6733728647232056), ('Summary', 0.5741979479789734), ('2009', 0.5494918823242188), ('Skills', 0.5195035338401794), ('arts, English, instruction, Latin, letters, Logic, materials, math, presentations, progress, promotion, Read, research, Spanish, Spanish language,', 0.5069230794906616), ('Math Teacher Company Name  City , State', 0.49692484736442566), ('Bilingual Substitute Teacher Company Name  City , State', 0.49263906478881836), ('Program Coordinator Company Name  City , State', 0.49088484048843384), ('strategy, supervisor, teacher, tutoring, VISTA, workshops', 0.4907076358795166), ('Academic Advisor/ Spanish Instructor Company Name  City , State', 0.4814698100090027), ('Professional Experience', 0.48116225004196167), ('Affiliations', 0.4800899624824524), ('time (tutoring hour) as well as after school tutoring Oversee Read 180 program participants and monitor their progress as part of their', 0.4782981276512146), ('Education and Training', 0.470977783203125), ('Taught beginner English grammar and literature, World History and TOEFL Prep to international students Tutored Algebra and was', 0.468811571598053), ('Bilingual (Spanish) Early Childhood-6, and Special Education.', 0.4627060294151306), ('TAKS/STAAR test results for local feeder schools for supervisor to present to upper administration Collaborated with the FWISD Vital', 0.46264657378196716), ('Bilingual 4th Grade Teacher Company Name  City , State', 0.46147453784942627), ('Love and Logic training.', 0.4603230953216553), ('Worked in elementary schools and substitute several classroom programs inclusive of: Early Childhood-6 mainstream, Spanish Immersion,', 0.45812341570854187), ('of recommendation Taught students hybrid course: Introduction to Spanish and Hispanic/Latin American Studies.', 0.4565610885620117), ('objectives Establish and maintain open lines of communication with students and their parents Participate in a wide range of district and', 0.45492076873779297), ('Bilingual Language Arts Sixth Grade Teacher Company Name  City , State', 0.45213186740875244), ('Assisted students one-on-one with college preparation assignments such as: career exploration, school selection, resume writing, and letters', 0.44803959131240845), ('Association of Texas Professional Educators (ATPE) LANGUAGES English and Spanish', 0.4466295540332794), ('May 2011', 0.4456784725189209), ('Provided key support for teachers on leave.', 0.4445918798446655), ('Employee of the Month Educational Support Services Department February 2010 AmeriCorps VISTA: Most Inspirational Employee December', 0.4435638189315796), ('promoted to remedial math teacher position Advised international students and tutored Spanish.', 0.4416617751121521), ('Student Development Assistant Company Name  City , State', 0.43931353092193604), ('presentations to showcase their knowledge some examples include: Prezi, Storyboard That, Edmodo, Thinglink, and others Participate in', 0.4386136829853058), ('accommodations for individual students Cooperate with other members of the staff in planning and implementing instructional goals and', 0.435377836227417), ('teaching/learning Interdisciplinary teaching Innovative lesson planning Effectively work with parents', 0.4299674928188324), (\"Dedicated and enthusiastic professional with over four years' experience in education. Proven expertise in establishing rapport and building trust\", 0.42844751477241516), ('internship, Winter Term: Paris 2007, London 2006; Elon Volunteers: Boys and Girls Club Alamance County Community College', 0.4241352677345276), ('community within the classroom Participate in the development of intervention plans for students within the classroom setting, during MVP', 0.4229905605316162), ('BILINGUAL LANGUAGE ARTS SIXTH GRADE TEACHER', 0.41945913434028625), ('among students, parents, administrators and community members. Possess strong communication skills and ability to partner across departments', 0.41847458481788635), ('Developed and implemented plans inclusive of: following Independent Education Plans (Special Education), Gifted and Talented curriculum,', 0.41719377040863037), ('within and outside of an organization to meet the needs of students. Motivating students School improvement committee Interactive', 0.416686475276947), ('2009 Northern Arizona University', 0.41624191403388977), ('intervention strategy Implementation of newer educational technology programs in order to teach students new techniques to use within their', 0.4144511818885803), ('and mainstream English/Spanish language arts, writing and history Analyze data to plan and implement appropriate instruction to reflect', 0.412117600440979), ('Presidential Scholar; Resident Assistant- RA of the Month February 2007 and October 2006; Global Experience Program: Costa Rica 2008 with', 0.41020554304122925), ('Link program to create a summer college exploration/ internship program for local middle school students.', 0.4073134660720825), ('create community workshops for parents and students as well as developed staff and advisor manuals Developed community partnerships', 0.4022893011569977), ('Developed and implemented interesting and interactive learning mediums to increase student understanding of course materials and build', 0.3988496661186218), ('Tarrant County College', 0.3970707952976227), ('Coordinated community tours for prospective students, families and community visitors Created data intensive reports based on', 0.39706963300704956), ('Bachelor of Arts : International Studies Elon University  City , State International Studies', 0.3931795060634613), ('and presented NACRC to organizations Received promotion from AmeriCorps VISTA position.', 0.39058011770248413), ('campus professional development to include: Gifted and Talented coursework, wide range of education technology applications, as well as', 0.370802104473114), ('Oversaw the development of a start-up organization Managed a $200,000 federal Gear up grant Utilized research based best practices to', 0.3678455352783203), ('district Community Ambassador program and campus improvement committee.', 0.35898807644844055)]\n",
      "Passing these relevant texts to limiter: [('Summary', 0.46158871054649353), ('Love and Logic training.', 0.44791537523269653), ('04/2011 to 07/2012', 0.4364093244075775), ('Skills', 0.43437445163726807), ('07/2009 to 07/2010', 0.4325282573699951), ('Bilingual 4th Grade Teacher Company Name  City , State', 0.4281562566757202), ('07/2013 to 01/2014', 0.4242984354496002), ('08/2014 to Current', 0.4242280423641205), ('01/2009 to 05/2009', 0.4236641228199005), ('01/2014 to 05/2014', 0.42205971479415894), ('2009', 0.41974472999572754), ('06/2010 to 07/2010', 0.41510868072509766), ('Affiliations', 0.4146432876586914), ('internship, Winter Term: Paris 2007, London 2006; Elon Volunteers: Boys and Girls Club Alamance County Community College', 0.4125695526599884), ('Bilingual Language Arts Sixth Grade Teacher Company Name  City , State', 0.4121372401714325), ('arts, English, instruction, Latin, letters, Logic, materials, math, presentations, progress, promotion, Read, research, Spanish, Spanish language,', 0.40928465127944946), ('BILINGUAL LANGUAGE ARTS SIXTH GRADE TEACHER', 0.40684038400650024), ('Bilingual Substitute Teacher Company Name  City , State', 0.40431153774261475), ('Academic Advisor/ Spanish Instructor Company Name  City , State', 0.4013461768627167), ('May 2011', 0.3998521864414215), ('Student Development Assistant Company Name  City , State', 0.3982168734073639), ('Math Teacher Company Name  City , State', 0.3958662152290344), ('Education and Training', 0.39332085847854614), ('Bilingual (Spanish) Early Childhood-6, and Special Education.', 0.39307886362075806), ('Professional Experience', 0.39129936695098877), ('of recommendation Taught students hybrid course: Introduction to Spanish and Hispanic/Latin American Studies.', 0.38828182220458984), ('Bachelor of Arts : International Studies Elon University  City , State International Studies', 0.3830282688140869), ('among students, parents, administrators and community members. Possess strong communication skills and ability to partner across departments', 0.3746297359466553), ('Presidential Scholar; Resident Assistant- RA of the Month February 2007 and October 2006; Global Experience Program: Costa Rica 2008 with', 0.3739902973175049), (\"Dedicated and enthusiastic professional with over four years' experience in education. Proven expertise in establishing rapport and building trust\", 0.3680325746536255), ('strategy, supervisor, teacher, tutoring, VISTA, workshops', 0.36795976758003235), ('time (tutoring hour) as well as after school tutoring Oversee Read 180 program participants and monitor their progress as part of their', 0.36632126569747925), ('and mainstream English/Spanish language arts, writing and history Analyze data to plan and implement appropriate instruction to reflect', 0.36576181650161743), ('create community workshops for parents and students as well as developed staff and advisor manuals Developed community partnerships', 0.3652527928352356), ('Worked in elementary schools and substitute several classroom programs inclusive of: Early Childhood-6 mainstream, Spanish Immersion,', 0.36489856243133545), ('objectives Establish and maintain open lines of communication with students and their parents Participate in a wide range of district and', 0.36170023679733276), ('Program Coordinator Company Name  City , State', 0.3609132170677185), ('TAKS/STAAR test results for local feeder schools for supervisor to present to upper administration Collaborated with the FWISD Vital', 0.3584473729133606), ('accommodations for individual students Cooperate with other members of the staff in planning and implementing instructional goals and', 0.3569248914718628), ('Association of Texas Professional Educators (ATPE) LANGUAGES English and Spanish', 0.3568073511123657), ('community within the classroom Participate in the development of intervention plans for students within the classroom setting, during MVP', 0.35558414459228516), ('within and outside of an organization to meet the needs of students. Motivating students School improvement committee Interactive', 0.355236291885376), ('Provided key support for teachers on leave.', 0.3544487953186035), ('Taught beginner English grammar and literature, World History and TOEFL Prep to international students Tutored Algebra and was', 0.34914031624794006), ('Link program to create a summer college exploration/ internship program for local middle school students.', 0.34843501448631287), ('presentations to showcase their knowledge some examples include: Prezi, Storyboard That, Edmodo, Thinglink, and others Participate in', 0.34575363993644714), ('Employee of the Month Educational Support Services Department February 2010 AmeriCorps VISTA: Most Inspirational Employee December', 0.34151726961135864), ('teaching/learning Interdisciplinary teaching Innovative lesson planning Effectively work with parents', 0.33899277448654175), ('Coordinated community tours for prospective students, families and community visitors Created data intensive reports based on', 0.33856022357940674), ('Oversaw the development of a start-up organization Managed a $200,000 federal Gear up grant Utilized research based best practices to', 0.3375761806964874), ('promoted to remedial math teacher position Advised international students and tutored Spanish.', 0.3372264504432678), ('district Community Ambassador program and campus improvement committee.', 0.33300626277923584), ('intervention strategy Implementation of newer educational technology programs in order to teach students new techniques to use within their', 0.33184897899627686), ('Developed and implemented interesting and interactive learning mediums to increase student understanding of course materials and build', 0.3192049562931061), ('2009 Northern Arizona University', 0.3124990463256836), ('Assisted students one-on-one with college preparation assignments such as: career exploration, school selection, resume writing, and letters', 0.2947293519973755), ('campus professional development to include: Gifted and Talented coursework, wide range of education technology applications, as well as', 0.2792457938194275), ('Tarrant County College', 0.2773224115371704), ('Developed and implemented plans inclusive of: following Independent Education Plans (Special Education), Gifted and Talented curriculum,', 0.27433037757873535), ('and presented NACRC to organizations Received promotion from AmeriCorps VISTA position.', 0.2675589323043823)]\n",
      "importance order: [['Summary'], ['Love and Logic training.'], ['04/2011 to 07/2012']]\n",
      "[('Summary', 0.46158871054649353), ('Love and Logic training.', 0.44791537523269653), ('04/2011 to 07/2012', 0.4364093244075775), ('Skills', 0.43437445163726807), ('07/2009 to 07/2010', 0.4325282573699951), ('Bilingual 4th Grade Teacher Company Name  City , State', 0.4281562566757202), ('07/2013 to 01/2014', 0.4242984354496002), ('08/2014 to Current', 0.4242280423641205), ('01/2009 to 05/2009', 0.4236641228199005), ('01/2014 to 05/2014', 0.42205971479415894), ('2009', 0.41974472999572754), ('06/2010 to 07/2010', 0.41510868072509766), ('Affiliations', 0.4146432876586914), ('internship, Winter Term: Paris 2007, London 2006; Elon Volunteers: Boys and Girls Club Alamance County Community College', 0.4125695526599884), ('Bilingual Language Arts Sixth Grade Teacher Company Name  City , State', 0.4121372401714325), ('arts, English, instruction, Latin, letters, Logic, materials, math, presentations, progress, promotion, Read, research, Spanish, Spanish language,', 0.40928465127944946), ('BILINGUAL LANGUAGE ARTS SIXTH GRADE TEACHER', 0.40684038400650024), ('Bilingual Substitute Teacher Company Name  City , State', 0.40431153774261475), ('Academic Advisor/ Spanish Instructor Company Name  City , State', 0.4013461768627167), ('May 2011', 0.3998521864414215), ('Student Development Assistant Company Name  City , State', 0.3982168734073639), ('Math Teacher Company Name  City , State', 0.3958662152290344), ('Education and Training', 0.39332085847854614), ('Bilingual (Spanish) Early Childhood-6, and Special Education.', 0.39307886362075806), ('Professional Experience', 0.39129936695098877), ('of recommendation Taught students hybrid course: Introduction to Spanish and Hispanic/Latin American Studies.', 0.38828182220458984), ('Bachelor of Arts : International Studies Elon University  City , State International Studies', 0.3830282688140869), ('among students, parents, administrators and community members. Possess strong communication skills and ability to partner across departments', 0.3746297359466553), ('Presidential Scholar; Resident Assistant- RA of the Month February 2007 and October 2006; Global Experience Program: Costa Rica 2008 with', 0.3739902973175049), (\"Dedicated and enthusiastic professional with over four years' experience in education. Proven expertise in establishing rapport and building trust\", 0.3680325746536255), ('strategy, supervisor, teacher, tutoring, VISTA, workshops', 0.36795976758003235), ('time (tutoring hour) as well as after school tutoring Oversee Read 180 program participants and monitor their progress as part of their', 0.36632126569747925), ('and mainstream English/Spanish language arts, writing and history Analyze data to plan and implement appropriate instruction to reflect', 0.36576181650161743), ('create community workshops for parents and students as well as developed staff and advisor manuals Developed community partnerships', 0.3652527928352356), ('Worked in elementary schools and substitute several classroom programs inclusive of: Early Childhood-6 mainstream, Spanish Immersion,', 0.36489856243133545), ('objectives Establish and maintain open lines of communication with students and their parents Participate in a wide range of district and', 0.36170023679733276), ('Program Coordinator Company Name  City , State', 0.3609132170677185), ('TAKS/STAAR test results for local feeder schools for supervisor to present to upper administration Collaborated with the FWISD Vital', 0.3584473729133606), ('accommodations for individual students Cooperate with other members of the staff in planning and implementing instructional goals and', 0.3569248914718628), ('Association of Texas Professional Educators (ATPE) LANGUAGES English and Spanish', 0.3568073511123657), ('community within the classroom Participate in the development of intervention plans for students within the classroom setting, during MVP', 0.35558414459228516), ('within and outside of an organization to meet the needs of students. Motivating students School improvement committee Interactive', 0.355236291885376), ('Provided key support for teachers on leave.', 0.3544487953186035), ('Taught beginner English grammar and literature, World History and TOEFL Prep to international students Tutored Algebra and was', 0.34914031624794006), ('Link program to create a summer college exploration/ internship program for local middle school students.', 0.34843501448631287), ('presentations to showcase their knowledge some examples include: Prezi, Storyboard That, Edmodo, Thinglink, and others Participate in', 0.34575363993644714), ('Employee of the Month Educational Support Services Department February 2010 AmeriCorps VISTA: Most Inspirational Employee December', 0.34151726961135864), ('teaching/learning Interdisciplinary teaching Innovative lesson planning Effectively work with parents', 0.33899277448654175), ('Coordinated community tours for prospective students, families and community visitors Created data intensive reports based on', 0.33856022357940674), ('Oversaw the development of a start-up organization Managed a $200,000 federal Gear up grant Utilized research based best practices to', 0.3375761806964874), ('promoted to remedial math teacher position Advised international students and tutored Spanish.', 0.3372264504432678), ('district Community Ambassador program and campus improvement committee.', 0.33300626277923584), ('intervention strategy Implementation of newer educational technology programs in order to teach students new techniques to use within their', 0.33184897899627686), ('Developed and implemented interesting and interactive learning mediums to increase student understanding of course materials and build', 0.3192049562931061), ('2009 Northern Arizona University', 0.3124990463256836), ('Assisted students one-on-one with college preparation assignments such as: career exploration, school selection, resume writing, and letters', 0.2947293519973755), ('campus professional development to include: Gifted and Talented coursework, wide range of education technology applications, as well as', 0.2792457938194275), ('Tarrant County College', 0.2773224115371704), ('Developed and implemented plans inclusive of: following Independent Education Plans (Special Education), Gifted and Talented curriculum,', 0.27433037757873535), ('and presented NACRC to organizations Received promotion from AmeriCorps VISTA position.', 0.2675589323043823)]\n"
     ]
    },
    {
     "ename": "RuntimeError",
     "evalue": "mat1 and mat2 shapes cannot be multiplied (1x0 and 1024x60)",
     "output_type": "error",
     "traceback": [
      "\u001B[1;31m---------------------------------------------------------------------------\u001B[0m",
      "\u001B[1;31mRuntimeError\u001B[0m                              Traceback (most recent call last)",
      "Cell \u001B[1;32mIn[3], line 24\u001B[0m\n\u001B[0;32m     20\u001B[0m         \u001B[38;5;28mprint\u001B[39m(\u001B[38;5;124m'\u001B[39m\u001B[38;5;124mimportance order:\u001B[39m\u001B[38;5;124m'\u001B[39m, classified)\n\u001B[0;32m     21\u001B[0m         \u001B[38;5;28mprint\u001B[39m(phraset)\n\u001B[1;32m---> 24\u001B[0m \u001B[43mprocess_pdf\u001B[49m\u001B[43m(\u001B[49m\u001B[43m)\u001B[49m\n",
      "Cell \u001B[1;32mIn[3], line 17\u001B[0m, in \u001B[0;36mprocess_pdf\u001B[1;34m()\u001B[0m\n\u001B[0;32m     15\u001B[0m         \u001B[38;5;28;01mbreak\u001B[39;00m\n\u001B[0;32m     16\u001B[0m     array\u001B[38;5;241m.\u001B[39mappend(p)\n\u001B[1;32m---> 17\u001B[0m phraset \u001B[38;5;241m=\u001B[39m \u001B[43mphrases_by_relevance\u001B[49m\u001B[43m(\u001B[49m\u001B[43mcontext\u001B[49m\u001B[43m,\u001B[49m\u001B[43m \u001B[49m\u001B[43marray\u001B[49m\u001B[43m)\u001B[49m\n\u001B[0;32m     18\u001B[0m \u001B[38;5;28mprint\u001B[39m(\u001B[38;5;124m'\u001B[39m\u001B[38;5;124mPassing these relevant texts to limiter:\u001B[39m\u001B[38;5;124m'\u001B[39m, phraset)\n\u001B[0;32m     19\u001B[0m classified \u001B[38;5;241m=\u001B[39m delimiter(phraset)\n",
      "Cell \u001B[1;32mIn[2], line 24\u001B[0m, in \u001B[0;36mphrases_by_relevance\u001B[1;34m(text, prompts)\u001B[0m\n\u001B[0;32m     22\u001B[0m qembed \u001B[38;5;241m=\u001B[39m theta\u001B[38;5;241m.\u001B[39mencode([\u001B[38;5;241m*\u001B[39mprompts])\n\u001B[0;32m     23\u001B[0m embeddings \u001B[38;5;241m=\u001B[39m theta\u001B[38;5;241m.\u001B[39mencode(text)\n\u001B[1;32m---> 24\u001B[0m result \u001B[38;5;241m=\u001B[39m [tensor\u001B[38;5;241m.\u001B[39mitem() \u001B[38;5;28;01mfor\u001B[39;00m tensor \u001B[38;5;129;01min\u001B[39;00m \u001B[38;5;28mlist\u001B[39m(\u001B[43mcos_sim\u001B[49m\u001B[43m(\u001B[49m\u001B[43mqembed\u001B[49m\u001B[43m,\u001B[49m\u001B[43m \u001B[49m\u001B[43membeddings\u001B[49m\u001B[43m)\u001B[49m[\u001B[38;5;241m0\u001B[39m])]\n\u001B[0;32m     25\u001B[0m phraset \u001B[38;5;241m=\u001B[39m [(text[i], result[i]) \u001B[38;5;28;01mfor\u001B[39;00m i \u001B[38;5;129;01min\u001B[39;00m \u001B[38;5;28mrange\u001B[39m(\u001B[38;5;28mlen\u001B[39m(text))]\n\u001B[0;32m     26\u001B[0m phraset\u001B[38;5;241m.\u001B[39msort(key\u001B[38;5;241m=\u001B[39m\u001B[38;5;28;01mlambda\u001B[39;00m x: x[\u001B[38;5;241m1\u001B[39m], reverse\u001B[38;5;241m=\u001B[39m\u001B[38;5;28;01mTrue\u001B[39;00m)\n",
      "File \u001B[1;32m~\\AppData\\Local\\Programs\\Python\\Python312\\Lib\\site-packages\\sentence_transformers\\util.py:108\u001B[0m, in \u001B[0;36mcos_sim\u001B[1;34m(a, b)\u001B[0m\n\u001B[0;32m    106\u001B[0m a_norm \u001B[38;5;241m=\u001B[39m normalize_embeddings(a)\n\u001B[0;32m    107\u001B[0m b_norm \u001B[38;5;241m=\u001B[39m normalize_embeddings(b)\n\u001B[1;32m--> 108\u001B[0m \u001B[38;5;28;01mreturn\u001B[39;00m \u001B[43mtorch\u001B[49m\u001B[38;5;241;43m.\u001B[39;49m\u001B[43mmm\u001B[49m\u001B[43m(\u001B[49m\u001B[43ma_norm\u001B[49m\u001B[43m,\u001B[49m\u001B[43m \u001B[49m\u001B[43mb_norm\u001B[49m\u001B[38;5;241;43m.\u001B[39;49m\u001B[43mtranspose\u001B[49m\u001B[43m(\u001B[49m\u001B[38;5;241;43m0\u001B[39;49m\u001B[43m,\u001B[49m\u001B[43m \u001B[49m\u001B[38;5;241;43m1\u001B[39;49m\u001B[43m)\u001B[49m\u001B[43m)\u001B[49m\n",
      "\u001B[1;31mRuntimeError\u001B[0m: mat1 and mat2 shapes cannot be multiplied (1x0 and 1024x60)"
     ]
    }
   ],
   "source": [
    "def process_pdf():\n",
    "    print(\"HI\")\n",
    "    context = pdf_to_text('Final_Resumes/Resume_of_ID_0.pdf')\n",
    "    modified_pdf_files = []\n",
    "    phraset = phrases_by_relevance(context, [\"01/0001 to 02/0002\"])\n",
    "    print('Passing these relevant texts to limiter:', phraset)\n",
    "    classified = delimiter(phraset)\n",
    "    print('importance order:', classified)\n",
    "    print(phraset)\n",
    "    while True:\n",
    "        array = []\n",
    "        while True:\n",
    "            p = input()\n",
    "            if p == 'e':\n",
    "                break\n",
    "            array.append(p)\n",
    "        phraset = phrases_by_relevance(context, array)\n",
    "        print('Passing these relevant texts to limiter:', phraset)\n",
    "        classified = delimiter(phraset)\n",
    "        print('importance order:', classified)\n",
    "        print(phraset)\n",
    "\n",
    "\n",
    "process_pdf()"
   ],
   "metadata": {
    "collapsed": false,
    "ExecuteTime": {
     "end_time": "2024-09-28T07:23:10.245081300Z",
     "start_time": "2024-09-28T07:22:40.756007500Z"
    }
   },
   "id": "96e2eb7081898c83"
  },
  {
   "cell_type": "code",
   "execution_count": null,
   "outputs": [],
   "source": [],
   "metadata": {
    "collapsed": false
   },
   "id": "6d19531c2d3787f3"
  }
 ],
 "metadata": {
  "kernelspec": {
   "display_name": "Python 3",
   "language": "python",
   "name": "python3"
  },
  "language_info": {
   "codemirror_mode": {
    "name": "ipython",
    "version": 2
   },
   "file_extension": ".py",
   "mimetype": "text/x-python",
   "name": "python",
   "nbconvert_exporter": "python",
   "pygments_lexer": "ipython2",
   "version": "2.7.6"
  }
 },
 "nbformat": 4,
 "nbformat_minor": 5
}
